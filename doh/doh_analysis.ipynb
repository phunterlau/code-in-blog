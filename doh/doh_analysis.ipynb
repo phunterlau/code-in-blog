{
 "cells": [
  {
   "cell_type": "markdown",
   "id": "0f09eb55",
   "metadata": {},
   "source": [
    "In this notebook, I am reproducting the result in the paper of \"DoH Insight: Detecting DNS over HTTPS by Machine Learning\", and trying to dig further if any robust features against any attacks"
   ]
  },
  {
   "cell_type": "code",
   "execution_count": 1,
   "id": "689ca2e9",
   "metadata": {},
   "outputs": [],
   "source": [
    "import pandas as pd\n",
    "import matplotlib.pyplot as plt\n",
    "import seaborn as sns\n",
    "%matplotlib inline\n",
    "\n",
    "pal = sns.color_palette()\n",
    "sns.set_style(\"darkgrid\")"
   ]
  },
  {
   "cell_type": "markdown",
   "id": "aa246428",
   "metadata": {},
   "source": [
    "the paper is \"DoH Insight: Detecting DNS over HTTPS by Machine Learning\" <https://sappan-project.eu/wp-content/uploads/2020/09/DOH-2.pdf>. It brings in a nice dataset as well as a list of good features. The source of dataset is at <https://figshare.com/articles/dataset/Dataset_used_for_detecting_DNS_over_HTTPS_by_Machine_Learning_/12277448> or one can go <https://zenodo.org/record/3906526> for the full dataset.\n"
   ]
  },
  {
   "cell_type": "code",
   "execution_count": 2,
   "id": "c61f1016",
   "metadata": {},
   "outputs": [
    {
     "data": {
      "text/html": [
       "<div>\n",
       "<style scoped>\n",
       "    .dataframe tbody tr th:only-of-type {\n",
       "        vertical-align: middle;\n",
       "    }\n",
       "\n",
       "    .dataframe tbody tr th {\n",
       "        vertical-align: top;\n",
       "    }\n",
       "\n",
       "    .dataframe thead th {\n",
       "        text-align: right;\n",
       "    }\n",
       "</style>\n",
       "<table border=\"1\" class=\"dataframe\">\n",
       "  <thead>\n",
       "    <tr style=\"text-align: right;\">\n",
       "      <th></th>\n",
       "      <th>is_doh</th>\n",
       "      <th>datasrc</th>\n",
       "      <th>bytes_out</th>\n",
       "      <th>num_pkts_out</th>\n",
       "      <th>bytes_in</th>\n",
       "      <th>num_pkts_in</th>\n",
       "      <th>bytes_ration</th>\n",
       "      <th>num_pkts_ration</th>\n",
       "      <th>time</th>\n",
       "      <th>av_pkt_size_in</th>\n",
       "      <th>...</th>\n",
       "      <th>mindelay</th>\n",
       "      <th>avgdelay</th>\n",
       "      <th>maxdelay</th>\n",
       "      <th>time_leap_ration</th>\n",
       "      <th>bursts</th>\n",
       "      <th>fazzel</th>\n",
       "      <th>autocorr</th>\n",
       "      <th>stSum</th>\n",
       "      <th>ndSum</th>\n",
       "      <th>rdSum</th>\n",
       "    </tr>\n",
       "  </thead>\n",
       "  <tbody>\n",
       "    <tr>\n",
       "      <th>0</th>\n",
       "      <td>0</td>\n",
       "      <td>chrome</td>\n",
       "      <td>2876</td>\n",
       "      <td>4</td>\n",
       "      <td>4134</td>\n",
       "      <td>3</td>\n",
       "      <td>1.437413</td>\n",
       "      <td>1.333333</td>\n",
       "      <td>80.0</td>\n",
       "      <td>1378.0</td>\n",
       "      <td>...</td>\n",
       "      <td>30.0</td>\n",
       "      <td>50.666667</td>\n",
       "      <td>80.0</td>\n",
       "      <td>1.000000</td>\n",
       "      <td>3.0</td>\n",
       "      <td>3.0</td>\n",
       "      <td>-316</td>\n",
       "      <td>0</td>\n",
       "      <td>1</td>\n",
       "      <td>0</td>\n",
       "    </tr>\n",
       "    <tr>\n",
       "      <th>1</th>\n",
       "      <td>0</td>\n",
       "      <td>chrome</td>\n",
       "      <td>1036</td>\n",
       "      <td>8</td>\n",
       "      <td>3559</td>\n",
       "      <td>7</td>\n",
       "      <td>3.435328</td>\n",
       "      <td>1.142857</td>\n",
       "      <td>148.0</td>\n",
       "      <td>508.4</td>\n",
       "      <td>...</td>\n",
       "      <td>2.0</td>\n",
       "      <td>78.142857</td>\n",
       "      <td>148.0</td>\n",
       "      <td>0.833333</td>\n",
       "      <td>5.0</td>\n",
       "      <td>6.0</td>\n",
       "      <td>225</td>\n",
       "      <td>1</td>\n",
       "      <td>2</td>\n",
       "      <td>0</td>\n",
       "    </tr>\n",
       "    <tr>\n",
       "      <th>2</th>\n",
       "      <td>0</td>\n",
       "      <td>chrome</td>\n",
       "      <td>3170</td>\n",
       "      <td>11</td>\n",
       "      <td>7742</td>\n",
       "      <td>10</td>\n",
       "      <td>2.442271</td>\n",
       "      <td>1.100000</td>\n",
       "      <td>174.0</td>\n",
       "      <td>774.2</td>\n",
       "      <td>...</td>\n",
       "      <td>32.0</td>\n",
       "      <td>91.800000</td>\n",
       "      <td>174.0</td>\n",
       "      <td>0.857143</td>\n",
       "      <td>6.0</td>\n",
       "      <td>7.0</td>\n",
       "      <td>239</td>\n",
       "      <td>-1</td>\n",
       "      <td>0</td>\n",
       "      <td>0</td>\n",
       "    </tr>\n",
       "    <tr>\n",
       "      <th>3</th>\n",
       "      <td>1</td>\n",
       "      <td>chrome</td>\n",
       "      <td>1413</td>\n",
       "      <td>10</td>\n",
       "      <td>3561</td>\n",
       "      <td>12</td>\n",
       "      <td>2.520170</td>\n",
       "      <td>0.833333</td>\n",
       "      <td>52.0</td>\n",
       "      <td>296.8</td>\n",
       "      <td>...</td>\n",
       "      <td>2.0</td>\n",
       "      <td>34.952381</td>\n",
       "      <td>52.0</td>\n",
       "      <td>1.142857</td>\n",
       "      <td>8.0</td>\n",
       "      <td>7.0</td>\n",
       "      <td>149</td>\n",
       "      <td>-1</td>\n",
       "      <td>2</td>\n",
       "      <td>-3</td>\n",
       "    </tr>\n",
       "    <tr>\n",
       "      <th>4</th>\n",
       "      <td>0</td>\n",
       "      <td>chrome</td>\n",
       "      <td>913</td>\n",
       "      <td>8</td>\n",
       "      <td>6158</td>\n",
       "      <td>8</td>\n",
       "      <td>6.744797</td>\n",
       "      <td>1.000000</td>\n",
       "      <td>64.0</td>\n",
       "      <td>769.8</td>\n",
       "      <td>...</td>\n",
       "      <td>2.0</td>\n",
       "      <td>36.533333</td>\n",
       "      <td>64.0</td>\n",
       "      <td>0.833333</td>\n",
       "      <td>5.0</td>\n",
       "      <td>6.0</td>\n",
       "      <td>543</td>\n",
       "      <td>1</td>\n",
       "      <td>-2</td>\n",
       "      <td>1</td>\n",
       "    </tr>\n",
       "  </tbody>\n",
       "</table>\n",
       "<p>5 rows × 25 columns</p>\n",
       "</div>"
      ],
      "text/plain": [
       "   is_doh datasrc  bytes_out  num_pkts_out  bytes_in  num_pkts_in  \\\n",
       "0       0  chrome       2876             4      4134            3   \n",
       "1       0  chrome       1036             8      3559            7   \n",
       "2       0  chrome       3170            11      7742           10   \n",
       "3       1  chrome       1413            10      3561           12   \n",
       "4       0  chrome        913             8      6158            8   \n",
       "\n",
       "   bytes_ration  num_pkts_ration   time  av_pkt_size_in  ...  mindelay  \\\n",
       "0      1.437413         1.333333   80.0          1378.0  ...      30.0   \n",
       "1      3.435328         1.142857  148.0           508.4  ...       2.0   \n",
       "2      2.442271         1.100000  174.0           774.2  ...      32.0   \n",
       "3      2.520170         0.833333   52.0           296.8  ...       2.0   \n",
       "4      6.744797         1.000000   64.0           769.8  ...       2.0   \n",
       "\n",
       "    avgdelay  maxdelay  time_leap_ration  bursts  fazzel  autocorr  stSum  \\\n",
       "0  50.666667      80.0          1.000000     3.0     3.0      -316      0   \n",
       "1  78.142857     148.0          0.833333     5.0     6.0       225      1   \n",
       "2  91.800000     174.0          0.857143     6.0     7.0       239     -1   \n",
       "3  34.952381      52.0          1.142857     8.0     7.0       149     -1   \n",
       "4  36.533333      64.0          0.833333     5.0     6.0       543      1   \n",
       "\n",
       "   ndSum  rdSum  \n",
       "0      1      0  \n",
       "1      2      0  \n",
       "2      0      0  \n",
       "3      2     -3  \n",
       "4     -2      1  \n",
       "\n",
       "[5 rows x 25 columns]"
      ]
     },
     "execution_count": 2,
     "metadata": {},
     "output_type": "execute_result"
    }
   ],
   "source": [
    "df_train = pd.read_csv('./doh-dataset.csv', delimiter=';')\n",
    "df_train.head()"
   ]
  },
  {
   "cell_type": "code",
   "execution_count": 3,
   "id": "ca419c59",
   "metadata": {},
   "outputs": [
    {
     "data": {
      "text/plain": [
       "Index(['is_doh', 'datasrc', 'bytes_out', 'num_pkts_out', 'bytes_in',\n",
       "       'num_pkts_in', 'bytes_ration', 'num_pkts_ration', 'time',\n",
       "       'av_pkt_size_in', 'av_pkt_size_out', 'var_pkt_size_in',\n",
       "       'var_pkt_size_out', 'median_in', 'median_out', 'mindelay', 'avgdelay',\n",
       "       'maxdelay', 'time_leap_ration', 'bursts', 'fazzel', 'autocorr', 'stSum',\n",
       "       'ndSum', 'rdSum'],\n",
       "      dtype='object')"
      ]
     },
     "execution_count": 3,
     "metadata": {},
     "output_type": "execute_result"
    }
   ],
   "source": [
    "df_train.columns"
   ]
  },
  {
   "cell_type": "code",
   "execution_count": 4,
   "id": "3ae2edea",
   "metadata": {},
   "outputs": [
    {
     "data": {
      "text/plain": [
       "0    452626\n",
       "1     34195\n",
       "Name: is_doh, dtype: int64"
      ]
     },
     "execution_count": 4,
     "metadata": {},
     "output_type": "execute_result"
    }
   ],
   "source": [
    "# the training sample distribution is skewed, \n",
    "# so RepeatedStratifiedKFold is suggested for cross validation\n",
    "df_train['is_doh'].value_counts()"
   ]
  },
  {
   "cell_type": "code",
   "execution_count": 5,
   "id": "312e5ca9",
   "metadata": {},
   "outputs": [],
   "source": [
    "# as the paper has mentioned, DoH queries have long duration\n",
    "df_train_wide=df_train.pivot(columns='is_doh', values='time')"
   ]
  },
  {
   "cell_type": "code",
   "execution_count": 6,
   "id": "6ec2b83d",
   "metadata": {},
   "outputs": [
    {
     "data": {
      "text/plain": [
       "<AxesSubplot:ylabel='Frequency'>"
      ]
     },
     "execution_count": 6,
     "metadata": {},
     "output_type": "execute_result"
    },
    {
     "data": {
      "image/png": "[encoded data removed]",
      "text/plain": [
       "<Figure size 576x432 with 1 Axes>"
      ]
     },
     "metadata": {},
     "output_type": "display_data"
    }
   ],
   "source": [
    "df_train_wide.plot.hist(bins=100, figsize=(8,6), alpha=0.7, log=True)"
   ]
  },
  {
   "cell_type": "code",
   "execution_count": 7,
   "id": "cc4e7531",
   "metadata": {},
   "outputs": [],
   "source": [
    "# \n",
    "df_train_client=df_train.pivot(columns='datasrc', values='time')"
   ]
  },
  {
   "cell_type": "code",
   "execution_count": 8,
   "id": "5d2eb9d0",
   "metadata": {},
   "outputs": [
    {
     "data": {
      "text/plain": [
       "<AxesSubplot:ylabel='Frequency'>"
      ]
     },
     "execution_count": 8,
     "metadata": {},
     "output_type": "execute_result"
    },
    {
     "data": {
      "image/png": "[encoded data removed]",
      "text/plain": [
       "<Figure size 576x432 with 1 Axes>"
      ]
     },
     "metadata": {},
     "output_type": "display_data"
    }
   ],
   "source": [
    "df_train_client.plot.hist(bins=100, figsize=(8,6), alpha=0.7, log=True)"
   ]
  },
  {
   "cell_type": "code",
   "execution_count": 9,
   "id": "eb3540c1",
   "metadata": {},
   "outputs": [],
   "source": [
    "from sklearn import preprocessing\n",
    "from sklearn.model_selection import train_test_split\n",
    "\n",
    "from sklearn.model_selection  import GridSearchCV\n",
    "from sklearn.model_selection import cross_val_score\n",
    "from sklearn.model_selection import RepeatedStratifiedKFold"
   ]
  },
  {
   "cell_type": "code",
   "execution_count": 10,
   "id": "f0b815db",
   "metadata": {},
   "outputs": [
    {
     "name": "stdout",
     "output_type": "stream",
     "text": [
      "['bytes_out', 'num_pkts_out', 'bytes_in', 'num_pkts_in', 'bytes_ration', 'num_pkts_ration', 'time', 'av_pkt_size_in', 'av_pkt_size_out', 'var_pkt_size_in', 'var_pkt_size_out', 'median_in', 'median_out', 'mindelay', 'avgdelay', 'maxdelay', 'time_leap_ration', 'bursts', 'fazzel', 'autocorr', 'stSum', 'ndSum', 'rdSum']\n"
     ]
    }
   ],
   "source": [
    "train = df_train.drop('datasrc', axis=1)\n",
    "features = list(train.columns[1:])\n",
    "print(features)"
   ]
  },
  {
   "cell_type": "markdown",
   "id": "2f1041eb",
   "metadata": {},
   "source": [
    "Let's try our favorite `xgboost` and `GridSearch` for an optimal parameter set. I reused my old Kaggle script <https://www.kaggle.com/phunter/xgboost-with-gridsearchcv>. A better choice of parameter search can be `AutoGluon` <https://auto.gluon.ai/stable/index.html>"
   ]
  },
  {
   "cell_type": "code",
   "execution_count": 11,
   "id": "ace9e3ca",
   "metadata": {},
   "outputs": [
    {
     "name": "stdout",
     "output_type": "stream",
     "text": [
      "Fitting 30 folds for each of 4 candidates, totalling 120 fits\n"
     ]
    },
    {
     "name": "stderr",
     "output_type": "stream",
     "text": [
      "/Users/hliu/miniforge3/lib/python3.9/site-packages/xgboost/sklearn.py:1146: UserWarning: The use of label encoder in XGBClassifier is deprecated and will be removed in a future release. To remove this warning, do the following: 1) Pass option use_label_encoder=False when constructing XGBClassifier object; and 2) Encode your labels (y) as integers starting with 0, i.e. 0, 1, 2, ..., [num_class - 1].\n",
      "  warnings.warn(label_encoder_deprecation_msg, UserWarning)\n"
     ]
    },
    {
     "name": "stdout",
     "output_type": "stream",
     "text": [
      "[15:21:45] WARNING: /private/var/folders/gt/gmcvnkcj6fb36gwkn_zcd9200000gn/T/pip-install-ghmm0hix/xgboost_9fe39133e32348ad9f2da26a664a5e0a/build/temp.macosx-11.0-arm64-3.9/xgboost/src/learner.cc:1095: Starting in XGBoost 1.3.0, the default evaluation metric used with the objective 'binary:logistic' was changed from 'error' to 'logloss'. Explicitly set eval_metric if you'd like to restore the old behavior.\n",
      "Best parameters set found on development set:\n",
      "{'colsample_bytree': 0.7, 'learning_rate': 0.05, 'max_depth': 6, 'min_child_weight': 11, 'missing': -999, 'n_estimators': 10, 'nthread': 1, 'objective': 'binary:logistic', 'seed': 1337, 'subsample': 0.8}\n",
      "Grid scores on development set:\n",
      "0.996 (+/-0.002) for {'colsample_bytree': 0.7, 'learning_rate': 0.05, 'max_depth': 5, 'min_child_weight': 11, 'missing': -999, 'n_estimators': 5, 'nthread': 1, 'objective': 'binary:logistic', 'seed': 1337, 'subsample': 0.8}\n",
      "0.997 (+/-0.001) for {'colsample_bytree': 0.7, 'learning_rate': 0.05, 'max_depth': 5, 'min_child_weight': 11, 'missing': -999, 'n_estimators': 10, 'nthread': 1, 'objective': 'binary:logistic', 'seed': 1337, 'subsample': 0.8}\n",
      "0.999 (+/-0.001) for {'colsample_bytree': 0.7, 'learning_rate': 0.05, 'max_depth': 6, 'min_child_weight': 11, 'missing': -999, 'n_estimators': 5, 'nthread': 1, 'objective': 'binary:logistic', 'seed': 1337, 'subsample': 0.8}\n",
      "0.999 (+/-0.001) for {'colsample_bytree': 0.7, 'learning_rate': 0.05, 'max_depth': 6, 'min_child_weight': 11, 'missing': -999, 'n_estimators': 10, 'nthread': 1, 'objective': 'binary:logistic', 'seed': 1337, 'subsample': 0.8}\n"
     ]
    }
   ],
   "source": [
    "import xgboost as xgb\n",
    "xgb_model = xgb.XGBClassifier()\n",
    "parameters = {'nthread':[1],\n",
    "              'objective':['binary:logistic'],\n",
    "              'learning_rate': [0.05], \n",
    "              'max_depth': [5,6],\n",
    "              'min_child_weight': [11],\n",
    "              'subsample': [0.8],\n",
    "              'colsample_bytree': [0.7],\n",
    "              'n_estimators': [5,10],\n",
    "              'missing':[-999],\n",
    "              'seed': [1337]}\n",
    "\n",
    "cv = RepeatedStratifiedKFold(n_splits=10, n_repeats=3, random_state=1)\n",
    "clf = GridSearchCV(xgb_model, parameters, n_jobs=4, \n",
    "                   cv=cv, \n",
    "                   scoring='roc_auc',\n",
    "                   verbose=2, refit=True)\n",
    "\n",
    "clf.fit(train[features], train[\"is_doh\"])\n",
    "\n",
    "\n",
    "print(\"Best parameters set found on development set:\")\n",
    "print(clf.best_params_)\n",
    "print(\"Grid scores on development set:\")\n",
    "means = clf.cv_results_['mean_test_score']\n",
    "stds = clf.cv_results_['std_test_score']\n",
    "for mean, std, params in zip(means, stds, clf.cv_results_['params']):\n",
    "    print(\"%0.3f (+/-%0.03f) for %r\"\n",
    "          % (mean, std * 2, params))"
   ]
  },
  {
   "cell_type": "markdown",
   "id": "ca61ecd7",
   "metadata": {},
   "source": [
    "The feature importance bar chart can confirm the paper's conclusion where `duration` and `delay` features are the most important ones, however, such features can be obfuscated and masked with other HTTPS traffic"
   ]
  },
  {
   "cell_type": "code",
   "execution_count": 12,
   "id": "3079bc39",
   "metadata": {},
   "outputs": [
    {
     "data": {
      "text/plain": [
       "<AxesSubplot:>"
      ]
     },
     "execution_count": 12,
     "metadata": {},
     "output_type": "execute_result"
    },
    {
     "data": {
      "image/png": "[encoded data removed]",
      "text/plain": [
       "<Figure size 432x288 with 1 Axes>"
      ]
     },
     "metadata": {},
     "output_type": "display_data"
    }
   ],
   "source": [
    "sns.barplot(x=clf.best_estimator_.feature_importances_,y=features)"
   ]
  },
  {
   "cell_type": "markdown",
   "id": "807246d5",
   "metadata": {},
   "source": [
    "Now the question becomes that, can we bring a stronger classifier and leverage some robust features? Let's drop these top features:"
   ]
  },
  {
   "cell_type": "code",
   "execution_count": 13,
   "id": "4839bdc0",
   "metadata": {},
   "outputs": [
    {
     "name": "stdout",
     "output_type": "stream",
     "text": [
      "['bytes_out', 'num_pkts_out', 'bytes_in', 'num_pkts_in', 'bytes_ration', 'num_pkts_ration', 'av_pkt_size_in', 'av_pkt_size_out', 'var_pkt_size_in', 'var_pkt_size_out', 'median_in', 'median_out', 'time_leap_ration', 'autocorr', 'stSum', 'ndSum', 'rdSum']\n"
     ]
    }
   ],
   "source": [
    "train_drop = df_train.drop(['datasrc','time','maxdelay','avgdelay','mindelay','bursts','fazzel'], axis=1)\n",
    "features_drop = list(train_drop.columns[1:])\n",
    "print(features_drop)"
   ]
  },
  {
   "cell_type": "code",
   "execution_count": 14,
   "id": "328de0e8",
   "metadata": {},
   "outputs": [
    {
     "name": "stderr",
     "output_type": "stream",
     "text": [
      "/Users/hliu/miniforge3/lib/python3.9/site-packages/xgboost/sklearn.py:1146: UserWarning: The use of label encoder in XGBClassifier is deprecated and will be removed in a future release. To remove this warning, do the following: 1) Pass option use_label_encoder=False when constructing XGBClassifier object; and 2) Encode your labels (y) as integers starting with 0, i.e. 0, 1, 2, ..., [num_class - 1].\n",
      "  warnings.warn(label_encoder_deprecation_msg, UserWarning)\n"
     ]
    },
    {
     "name": "stdout",
     "output_type": "stream",
     "text": [
      "[15:23:33] WARNING: /private/var/folders/gt/gmcvnkcj6fb36gwkn_zcd9200000gn/T/pip-install-ghmm0hix/xgboost_9fe39133e32348ad9f2da26a664a5e0a/build/temp.macosx-11.0-arm64-3.9/xgboost/src/learner.cc:1095: Starting in XGBoost 1.3.0, the default evaluation metric used with the objective 'binary:logistic' was changed from 'error' to 'logloss'. Explicitly set eval_metric if you'd like to restore the old behavior.\n",
      "Best parameters set found on development set:\n",
      "{'colsample_bytree': 0.7, 'learning_rate': 0.05, 'max_depth': 5, 'min_child_weight': 11, 'missing': -999, 'n_estimators': 10, 'nthread': 1, 'objective': 'binary:logistic', 'seed': 1337, 'subsample': 0.8}\n",
      "Grid scores on development set:\n",
      "0.999 (+/-0.001) for {'colsample_bytree': 0.7, 'learning_rate': 0.05, 'max_depth': 5, 'min_child_weight': 11, 'missing': -999, 'n_estimators': 5, 'nthread': 1, 'objective': 'binary:logistic', 'seed': 1337, 'subsample': 0.8}\n",
      "1.000 (+/-0.000) for {'colsample_bytree': 0.7, 'learning_rate': 0.05, 'max_depth': 5, 'min_child_weight': 11, 'missing': -999, 'n_estimators': 10, 'nthread': 1, 'objective': 'binary:logistic', 'seed': 1337, 'subsample': 0.8}\n",
      "0.999 (+/-0.001) for {'colsample_bytree': 0.7, 'learning_rate': 0.05, 'max_depth': 6, 'min_child_weight': 11, 'missing': -999, 'n_estimators': 5, 'nthread': 1, 'objective': 'binary:logistic', 'seed': 1337, 'subsample': 0.8}\n",
      "1.000 (+/-0.000) for {'colsample_bytree': 0.7, 'learning_rate': 0.05, 'max_depth': 6, 'min_child_weight': 11, 'missing': -999, 'n_estimators': 10, 'nthread': 1, 'objective': 'binary:logistic', 'seed': 1337, 'subsample': 0.8}\n"
     ]
    }
   ],
   "source": [
    "xgb_model_drop = xgb.XGBClassifier()\n",
    "parameters = {'nthread':[1],\n",
    "              'objective':['binary:logistic'],\n",
    "              'learning_rate': [0.05], \n",
    "              'max_depth': [5,6],\n",
    "              'min_child_weight': [11],\n",
    "              'subsample': [0.8],\n",
    "              'colsample_bytree': [0.7],\n",
    "              'n_estimators': [5,10],\n",
    "              'missing':[-999],\n",
    "              'seed': [1337]}\n",
    "\n",
    "cv = RepeatedStratifiedKFold(n_splits=10, n_repeats=3, random_state=1)\n",
    "clf = GridSearchCV(xgb_model_drop, parameters, n_jobs=4, \n",
    "                   cv=cv, \n",
    "                   scoring='roc_auc',\n",
    "                   verbose=0, refit=True)\n",
    "\n",
    "clf.fit(train_drop[features_drop], train_drop[\"is_doh\"])\n",
    "\n",
    "print(\"Best parameters set found on development set:\")\n",
    "print(clf.best_params_)\n",
    "print(\"Grid scores on development set:\")\n",
    "means = clf.cv_results_['mean_test_score']\n",
    "stds = clf.cv_results_['std_test_score']\n",
    "for mean, std, params in zip(means, stds, clf.cv_results_['params']):\n",
    "    print(\"%0.3f (+/-%0.03f) for %r\"\n",
    "          % (mean, std * 2, params))"
   ]
  },
  {
   "cell_type": "markdown",
   "id": "8a34e637",
   "metadata": {},
   "source": [
    "We can see `xgboost` can pick some lower rank features like `number of packets out` `median in` and reach to a good `roc_auc` score. If we would explore further, a good test dataset can further validate the feature selection stability and resolve the concern if we overfit into this dataset."
   ]
  },
  {
   "cell_type": "code",
   "execution_count": 15,
   "id": "6f6aa847",
   "metadata": {},
   "outputs": [
    {
     "data": {
      "text/plain": [
       "<AxesSubplot:>"
      ]
     },
     "execution_count": 15,
     "metadata": {},
     "output_type": "execute_result"
    },
    {
     "data": {
      "image/png": "[encoded data removed]",
      "text/plain": [
       "<Figure size 432x288 with 1 Axes>"
      ]
     },
     "metadata": {},
     "output_type": "display_data"
    }
   ],
   "source": [
    "sns.barplot(x=clf.best_estimator_.feature_importances_,y=features_drop)"
   ]
  }
 ],
 "metadata": {
  "kernelspec": {
   "display_name": "Python 3",
   "language": "python",
   "name": "python3"
  },
  "language_info": {
   "codemirror_mode": {
    "name": "ipython",
    "version": 3
   },
   "file_extension": ".py",
   "mimetype": "text/x-python",
   "name": "python",
   "nbconvert_exporter": "python",
   "pygments_lexer": "ipython3",
   "version": "3.9.5"
  }
 },
 "nbformat": 4,
 "nbformat_minor": 5
}
