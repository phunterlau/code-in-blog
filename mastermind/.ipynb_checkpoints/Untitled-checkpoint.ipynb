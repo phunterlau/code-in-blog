{
 "cells": [
  {
   "cell_type": "code",
   "execution_count": 18,
   "id": "9277009b",
   "metadata": {},
   "outputs": [],
   "source": [
    "def check(input_number, check_number, n_correct, n_correct_pos):\n",
    "    str_number = str(input_number).zfill(len(check_number))\n",
    "    if_n_correct = (n_correct == sum(n in check_number for n in str_number))\n",
    "    if_n_correct_pos = (n_correct_pos == sum(a==b for a,b in zip(str_number, check_number)))\n",
    "    return (if_n_correct and if_n_correct_pos)\n",
    "\n",
    "def solve():\n",
    "    for test in range(1000):\n",
    "        if check(test, '460', 1, 1) and check(test, '492', 1, 0) and \\\n",
    "            check(test, '084', 2, 0) and check(test, '516', 0, 0) and \\\n",
    "            check(test, '568', 1, 0):\n",
    "            print(test)\n",
    "    return"
   ]
  },
  {
   "cell_type": "code",
   "execution_count": 19,
   "id": "77334f44",
   "metadata": {},
   "outputs": [
    {
     "name": "stdout",
     "output_type": "stream",
     "text": [
      "820\n"
     ]
    }
   ],
   "source": [
    "solve()"
   ]
  },
  {
   "cell_type": "code",
   "execution_count": null,
   "id": "ae4295ab",
   "metadata": {},
   "outputs": [],
   "source": []
  }
 ],
 "metadata": {
  "kernelspec": {
   "display_name": "Python 3",
   "language": "python",
   "name": "python3"
  },
  "language_info": {
   "codemirror_mode": {
    "name": "ipython",
    "version": 3
   },
   "file_extension": ".py",
   "mimetype": "text/x-python",
   "name": "python",
   "nbconvert_exporter": "python",
   "pygments_lexer": "ipython3",
   "version": "3.9.5"
  }
 },
 "nbformat": 4,
 "nbformat_minor": 5
}
