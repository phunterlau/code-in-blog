{
 "cells": [
  {
   "cell_type": "markdown",
   "id": "5bf4e450",
   "metadata": {},
   "source": [
    "Brute Force solution of this 3 digital locker problem <https://m.weibo.cn/detail/4662421354974667#&gid=1&pid=1>"
   ]
  },
  {
   "cell_type": "code",
   "execution_count": 1,
   "id": "286ebae2",
   "metadata": {},
   "outputs": [],
   "source": [
    "def check(input_number, check_number, n_correct, n_correct_pos):\n",
    "    str_number = str(input_number).zfill(len(check_number))\n",
    "    # if the number of correct digits can match\n",
    "    if_n_correct = (n_correct == sum(n in check_number for n in str_number))\n",
    "    # if the number of correct digits at correct position can match\n",
    "    if_n_correct_pos = (n_correct_pos == sum(a==b for a,b in zip(str_number, check_number)))\n",
    "    return (if_n_correct and if_n_correct_pos)\n",
    "\n",
    "def solve():\n",
    "    for test in range(1000):\n",
    "        if check(test, '460', 1, 1) and check(test, '492', 1, 0) and \\\n",
    "            check(test, '084', 2, 0) and check(test, '516', 0, 0) and \\\n",
    "            check(test, '568', 1, 0):\n",
    "            print(test)\n",
    "    return"
   ]
  },
  {
   "cell_type": "code",
   "execution_count": 2,
   "id": "81f45ddc",
   "metadata": {},
   "outputs": [
    {
     "name": "stdout",
     "output_type": "stream",
     "text": [
      "820\n"
     ]
    }
   ],
   "source": [
    "solve()"
   ]
  }
 ],
 "metadata": {
  "kernelspec": {
   "display_name": "Python 3",
   "language": "python",
   "name": "python3"
  },
  "language_info": {
   "codemirror_mode": {
    "name": "ipython",
    "version": 3
   },
   "file_extension": ".py",
   "mimetype": "text/x-python",
   "name": "python",
   "nbconvert_exporter": "python",
   "pygments_lexer": "ipython3",
   "version": "3.9.5"
  }
 },
 "nbformat": 4,
 "nbformat_minor": 5
}
