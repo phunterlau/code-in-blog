{
 "cells": [
  {
   "cell_type": "markdown",
   "id": "6c0d6370",
   "metadata": {},
   "source": [
    "Brute Force solution of this 3 digital locker problem <https://m.weibo.cn/detail/4662421354974667#&gid=1&pid=1>"
   ]
  },
  {
   "cell_type": "code",
   "execution_count": 1,
   "id": "d8df5a2b",
   "metadata": {},
   "outputs": [],
   "source": [
    "def check(input_number, check_number, n_correct, n_correct_pos):\n",
    "    str_number = str(input_number).zfill(len(check_number))\n",
    "    # if the number of correct digits can match\n",
    "    if_n_correct = (n_correct == sum(n in check_number for n in str_number))\n",
    "    # if the number of correct digits at correct position can match\n",
    "    if_n_correct_pos = (n_correct_pos == sum(a==b for a,b in zip(str_number, check_number)))\n",
    "    return (if_n_correct and if_n_correct_pos)\n",
    "\n",
    "def solve():\n",
    "    for test in range(1000):\n",
    "        if check(test, '460', 1, 1) and check(test, '492', 1, 0) and \\\n",
    "            check(test, '084', 2, 0) and check(test, '516', 0, 0) and \\\n",
    "            check(test, '568', 1, 0):\n",
    "            print(test)\n",
    "    return"
   ]
  },
  {
   "cell_type": "code",
   "execution_count": 2,
   "id": "2e378058",
   "metadata": {},
   "outputs": [
    {
     "name": "stdout",
     "output_type": "stream",
     "text": [
      "820\n"
     ]
    }
   ],
   "source": [
    "solve()"
   ]
  },
  {
   "cell_type": "code",
   "execution_count": 4,
   "id": "ef837733",
   "metadata": {},
   "outputs": [],
   "source": [
    "import numpy as np\n",
    "import math"
   ]
  },
  {
   "cell_type": "code",
   "execution_count": 7,
   "id": "60c4ee34",
   "metadata": {},
   "outputs": [
    {
     "name": "stdout",
     "output_type": "stream",
     "text": [
      "4.12 ns ± 0.00648 ns per loop (mean ± std. dev. of 7 runs, 100000000 loops each)\n"
     ]
    }
   ],
   "source": [
    "%timeit 1337.**.5"
   ]
  },
  {
   "cell_type": "code",
   "execution_count": 8,
   "id": "3a2ddacb",
   "metadata": {},
   "outputs": [
    {
     "name": "stdout",
     "output_type": "stream",
     "text": [
      "41.9 ns ± 0.0573 ns per loop (mean ± std. dev. of 7 runs, 10000000 loops each)\n"
     ]
    }
   ],
   "source": [
    "%timeit math.sqrt(1337.)"
   ]
  },
  {
   "cell_type": "code",
   "execution_count": 9,
   "id": "fd5aaa15",
   "metadata": {},
   "outputs": [
    {
     "name": "stdout",
     "output_type": "stream",
     "text": [
      "297 ns ± 1.51 ns per loop (mean ± std. dev. of 7 runs, 1000000 loops each)\n"
     ]
    }
   ],
   "source": [
    "%timeit np.sqrt(1337.)"
   ]
  },
  {
   "cell_type": "code",
   "execution_count": 20,
   "id": "2334ef57",
   "metadata": {},
   "outputs": [
    {
     "name": "stdout",
     "output_type": "stream",
     "text": [
      "4.09 ns ± 0.018 ns per loop (mean ± std. dev. of 7 runs, 100000000 loops each)\n"
     ]
    }
   ],
   "source": [
    "%timeit 1337.**.5"
   ]
  },
  {
   "cell_type": "code",
   "execution_count": 10,
   "id": "56440be1",
   "metadata": {},
   "outputs": [],
   "source": [
    "from math import sqrt"
   ]
  },
  {
   "cell_type": "code",
   "execution_count": 11,
   "id": "38a43c1b",
   "metadata": {},
   "outputs": [
    {
     "name": "stdout",
     "output_type": "stream",
     "text": [
      "26.7 ns ± 0.367 ns per loop (mean ± std. dev. of 7 runs, 10000000 loops each)\n"
     ]
    }
   ],
   "source": [
    "%timeit sqrt(1337.)"
   ]
  },
  {
   "cell_type": "code",
   "execution_count": 18,
   "id": "f203fe8b",
   "metadata": {},
   "outputs": [],
   "source": [
    "import math"
   ]
  },
  {
   "cell_type": "code",
   "execution_count": 19,
   "id": "e5a8783a",
   "metadata": {},
   "outputs": [
    {
     "name": "stdout",
     "output_type": "stream",
     "text": [
      "42 ns ± 0.15 ns per loop (mean ± std. dev. of 7 runs, 10000000 loops each)\n"
     ]
    }
   ],
   "source": [
    "%timeit math.sqrt(1337.)"
   ]
  },
  {
   "cell_type": "code",
   "execution_count": 12,
   "id": "11857227",
   "metadata": {},
   "outputs": [],
   "source": [
    "from numpy import sqrt"
   ]
  },
  {
   "cell_type": "code",
   "execution_count": 13,
   "id": "3dc6ea29",
   "metadata": {},
   "outputs": [
    {
     "name": "stdout",
     "output_type": "stream",
     "text": [
      "282 ns ± 5.5 ns per loop (mean ± std. dev. of 7 runs, 1000000 loops each)\n"
     ]
    }
   ],
   "source": [
    "%timeit sqrt(1337.)"
   ]
  },
  {
   "cell_type": "code",
   "execution_count": 14,
   "id": "9bd290b4",
   "metadata": {},
   "outputs": [],
   "source": [
    "from cmath import sqrt"
   ]
  },
  {
   "cell_type": "code",
   "execution_count": 15,
   "id": "da473c49",
   "metadata": {},
   "outputs": [
    {
     "name": "stdout",
     "output_type": "stream",
     "text": [
      "41.9 ns ± 0.241 ns per loop (mean ± std. dev. of 7 runs, 10000000 loops each)\n"
     ]
    }
   ],
   "source": [
    "%timeit sqrt(1337.)"
   ]
  },
  {
   "cell_type": "code",
   "execution_count": 16,
   "id": "741abe13",
   "metadata": {},
   "outputs": [
    {
     "name": "stdout",
     "output_type": "stream",
     "text": [
      "4.17 ns ± 0.0461 ns per loop (mean ± std. dev. of 7 runs, 100000000 loops each)\n"
     ]
    }
   ],
   "source": [
    "%timeit 1337.**.5"
   ]
  },
  {
   "cell_type": "code",
   "execution_count": null,
   "id": "6f2cedd7",
   "metadata": {},
   "outputs": [],
   "source": []
  }
 ],
 "metadata": {
  "kernelspec": {
   "display_name": "Python 3",
   "language": "python",
   "name": "python3"
  },
  "language_info": {
   "codemirror_mode": {
    "name": "ipython",
    "version": 3
   },
   "file_extension": ".py",
   "mimetype": "text/x-python",
   "name": "python",
   "nbconvert_exporter": "python",
   "pygments_lexer": "ipython3",
   "version": "3.9.5"
  }
 },
 "nbformat": 4,
 "nbformat_minor": 5
}
